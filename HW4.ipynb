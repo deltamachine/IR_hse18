{
 "cells": [
  {
   "cell_type": "markdown",
   "metadata": {},
   "source": [
    "## ДЗ по поиску\n",
    "\n",
    "Привет! Вам надо реализивать поисковик на базе вопросов-ответов с сайта [pravoved.ru](https://pravoved.ru/questions-archive/).        \n",
    "Поиск должен работать на трех технологиях:       \n",
    "1. обратном индексе     \n",
    "2. word2vec         \n",
    "3. doc2vec      \n",
    "\n",
    "Вы должны понять, какой метод и при каких условиях эксперимента на этом корпусе работает лучше.          \n",
    "Для измерения качества поиска найдите точность (accuracy) выпадания правильного ответа на конкретный вопрос (в этой базе у каждого вопроса есть только один правильный ответ). Точность нужно измерить для всей базы.    \n",
    "При этом давайте считать, что выпал правильный ответ, если он попал в **топ-5** поисковой выдачи.\n",
    "\n",
    "> Сделайте ваш поиск максимально качественным, чтобы значение точности стремилось к 1.     \n",
    "Для этого можно поэкспериментировать со следующим:       \n",
    "- модель word2vec (можно брать любую из опен сорса или обучить свою)\n",
    "- способ получения вектора документа через word2vec: простое среднее арифметическое или взвешивать каждый вектор в соответствии с его tf-idf      \n",
    "- количество эпох у doc2vec (начинайте от 100)\n",
    "- предобработка документов для обучения doc2vec (удалять / не удалять стоп-слова)\n",
    "- блендинг методов поиска: соединить результаты обратного индекса и w2v, или (что проще) w2v и d2v\n",
    "\n",
    "На это задание отведем 10 дней. Дэдлайн сдачи до полуночи 12.10."
   ]
  },
  {
   "cell_type": "code",
   "execution_count": 1,
   "metadata": {
    "collapsed": true
   },
   "outputs": [],
   "source": [
    "import os\n",
    "import json\n",
    "import string\n",
    "import pickle\n",
    "import numpy as np\n",
    "import pandas as pd\n",
    "from math import log\n",
    "from judicial_splitter import splitter\n",
    "from nltk.corpus import stopwords\n",
    "from nltk.tokenize import wordpunct_tokenize\n",
    "from pymorphy2 import MorphAnalyzer\n",
    "from sklearn.feature_extraction.text import CountVectorizer\n",
    "from sklearn.metrics.pairwise import cosine_similarity\n",
    "from gensim.models import Word2Vec, KeyedVectors, Doc2Vec\n",
    "from gensim.models.doc2vec import LabeledSentence\n",
    "from gensim import matutils\n",
    "\n",
    "import warnings\n",
    "warnings.filterwarnings(\"ignore\")"
   ]
  },
  {
   "cell_type": "code",
   "execution_count": 2,
   "metadata": {
    "collapsed": true
   },
   "outputs": [],
   "source": [
    "with open('qa_corpus.pkl', 'rb') as file:\n",
    "    qa_corpus = pickle.load(file)"
   ]
  },
  {
   "cell_type": "markdown",
   "metadata": {},
   "source": [
    "Всего в корпусе 1384 пары вопрос-ответ"
   ]
  },
  {
   "cell_type": "code",
   "execution_count": 3,
   "metadata": {},
   "outputs": [
    {
     "data": {
      "text/plain": [
       "1384"
      ]
     },
     "execution_count": 3,
     "metadata": {},
     "output_type": "execute_result"
    }
   ],
   "source": [
    "len(qa_corpus)"
   ]
  },
  {
   "cell_type": "markdown",
   "metadata": {},
   "source": [
    "Первый элемент блока это вопрос, второй - ответ на него"
   ]
  },
  {
   "cell_type": "code",
   "execution_count": 4,
   "metadata": {},
   "outputs": [
    {
     "data": {
      "text/plain": [
       "['\\nДобрый день.Мой сын гражданин Украины (ДНР),имеет вид на жительство в Р.Ф., кот.получил проживая с 2014 г. в Нижегородской области.В 2017г. переехал на постоянное место жительство в г.Ростов.Официально трудоустроился на одно из промышл.предприятий г.Ростова.Оформил временную регистрацию в Ростове.В УФМС предупредили,что по истечении 90 дней он должен либо постоянно прописаться либо покинуть территорию России.Прошу проконсультировать как быть дальше.(Вернуться домой в Донецк,но здесь идет война,работы нет.В Ростове он работает по специальности.Он инженер машиностроитель.)Временная прописка до 15 марта.  Если он сможет приобрести какую либо недвижимость,как долго будет решаться вопрос о его постоянной прописке в Ростове.Как в этом случае будет решаться вопрос с видом на жительство в Ростове? Не получится ли ,что приобретя квартиру,он не успеет в ней прописаться до окончании срока временной регистрации. С уважением Людмила Евгеньевна.\\n',\n",
       " 'Добрый вечер!Из Вашего вопроса вообще ничего не ясно.Ваш сын по ВНЖ в Нижегородской обл. сделал временную\\xa0 на 90 дней в Ростове? Так? Или в чем заключается вопрос?С ув., АлёнаМиграционный юристРостов-на-Дону ']"
      ]
     },
     "execution_count": 4,
     "metadata": {},
     "output_type": "execute_result"
    }
   ],
   "source": [
    "qa_corpus[0]"
   ]
  },
  {
   "cell_type": "markdown",
   "metadata": {},
   "source": [
    "# Базовая предобработка корпуса\n",
    "\n",
    "Разделим корпус."
   ]
  },
  {
   "cell_type": "code",
   "execution_count": 127,
   "metadata": {
    "collapsed": true
   },
   "outputs": [],
   "source": [
    "test_corpus = qa_corpus\n",
    "questions, answers = {}, {}\n",
    "\n",
    "for i, block in enumerate(test_corpus):\n",
    "    questions[i] = block[0]\n",
    "    answers[i] = block[1]  "
   ]
  },
  {
   "cell_type": "markdown",
   "metadata": {},
   "source": [
    "Предобработаем вопросы и запишем их отдельно: целиком (для обратного индекса) и по параграфам (для остальных методов, для d2v - со стоп-словами и без), чтобы проще было оценивать качество."
   ]
  },
  {
   "cell_type": "code",
   "execution_count": 129,
   "metadata": {
    "collapsed": true
   },
   "outputs": [],
   "source": [
    "for ind, text in questions.items():\n",
    "    text = ' '.join(preprocessing(text, 'ii'))\n",
    "    \n",
    "    with open('questions/q_%s.txt' % (str(ind)), 'w', encoding='utf-8') as file:\n",
    "        file.write(text)"
   ]
  },
  {
   "cell_type": "code",
   "execution_count": 130,
   "metadata": {
    "collapsed": true
   },
   "outputs": [],
   "source": [
    "for ind, text in questions.items():\n",
    "    paragraphs = splitter(text, 4)\n",
    "    \n",
    "    with open('q_paragraphs/q_%s.txt' % (str(ind)), 'w', encoding='utf-8') as file:  \n",
    "        for par in paragraphs:\n",
    "            text = ' '.join(preprocessing(par, 'w2v'))\n",
    "            file.write('%s\\nend\\n' % (text))"
   ]
  },
  {
   "cell_type": "code",
   "execution_count": 131,
   "metadata": {
    "collapsed": true
   },
   "outputs": [],
   "source": [
    "for ind, text in questions.items():\n",
    "    paragraphs = splitter(text, 4)\n",
    "    \n",
    "    with open('q_paragraphs_with_stops/q_%s.txt' % (str(ind)), 'w', encoding='utf-8') as file:  \n",
    "        for par in paragraphs:\n",
    "            text = ' '.join(preprocessing(par, 'd2v'))\n",
    "            file.write('%s\\nend\\n' % (text))"
   ]
  },
  {
   "cell_type": "markdown",
   "metadata": {},
   "source": [
    "# Препроцессинг"
   ]
  },
  {
   "cell_type": "code",
   "execution_count": 132,
   "metadata": {
    "collapsed": true
   },
   "outputs": [],
   "source": [
    "def preprocessing(text, mode):\n",
    "    morph = MorphAnalyzer()\n",
    "    stops = stopwords.words('russian')\n",
    "    punct = string.punctuation + '«»“”—…'\n",
    "    \n",
    "    text = text.lower()\n",
    "    tokens = wordpunct_tokenize(text)\n",
    "    all_lemmas = [morph.parse(token)[0].normal_form for token in tokens]\n",
    "    \n",
    "    if mode == 'd2v':\n",
    "        cleaned_lemmas = [lemma for lemma in all_lemmas if lemma not in punct]\n",
    "    else:\n",
    "        cleaned_lemmas = [lemma for lemma in all_lemmas if lemma not in stops and lemma not in punct]\n",
    " \n",
    "    return cleaned_lemmas"
   ]
  },
  {
   "cell_type": "markdown",
   "metadata": {},
   "source": [
    "# Обратный индекс"
   ]
  },
  {
   "cell_type": "code",
   "execution_count": 133,
   "metadata": {
    "collapsed": true
   },
   "outputs": [],
   "source": [
    "def corpus_and_stats(corpus):\n",
    "    prep_corpus = []\n",
    "    doc_lengths = {}\n",
    "    \n",
    "    for ind, text in corpus.items():\n",
    "        text = preprocessing(text, 'ii')\n",
    "        doc_lengths[ind] = len(text)\n",
    "\n",
    "        prep_corpus.append(' '.join(text))\n",
    "    \n",
    "    avgdl = sum(doc_lengths.values()) / len(doc_lengths)\n",
    "    \n",
    "    return prep_corpus, doc_lengths, avgdl"
   ]
  },
  {
   "cell_type": "code",
   "execution_count": 134,
   "metadata": {
    "collapsed": true
   },
   "outputs": [],
   "source": [
    "def calc_idfs(term_doc_matrix):    \n",
    "    idfs = {}\n",
    "\n",
    "    docs = term_doc_matrix[0]\n",
    "    words = term_doc_matrix[1]\n",
    "    numbers = term_doc_matrix[2]\n",
    "\n",
    "    N = len(docs)\n",
    "\n",
    "    for i, word in enumerate(words):\n",
    "        n = 0\n",
    "\n",
    "        for num in numbers:\n",
    "            val = num[i]\n",
    "\n",
    "            if val != 0:\n",
    "                n += 1\n",
    "\n",
    "        idf = log((N - n + 0.5) / (n + 0.5))\n",
    "        idfs[word] = idf\n",
    "    \n",
    "    return idfs"
   ]
  },
  {
   "cell_type": "code",
   "execution_count": 135,
   "metadata": {
    "collapsed": true
   },
   "outputs": [],
   "source": [
    "def inverted_index(corpus):\n",
    "    prep_corpus, doc_lengths, avgdl = corpus_and_stats(corpus)\n",
    "    \n",
    "    vectorizer = CountVectorizer()\n",
    "    docs = vectorizer.fit_transform(prep_corpus)\n",
    "    index = [str(key) for key in corpus.keys()]\n",
    "\n",
    "    term_doc_matrix = pd.DataFrame(docs.toarray(), columns=vectorizer.get_feature_names(), index=index)\n",
    "    term_doc_matrix = [term_doc_matrix.index.tolist(), term_doc_matrix.columns.tolist(), term_doc_matrix.values.tolist()]\n",
    "    \n",
    "    idfs = calc_idfs(term_doc_matrix)\n",
    "    \n",
    "    return term_doc_matrix, doc_lengths, avgdl, idfs"
   ]
  },
  {
   "cell_type": "markdown",
   "metadata": {},
   "source": [
    "Матрица и статистики"
   ]
  },
  {
   "cell_type": "code",
   "execution_count": 136,
   "metadata": {
    "collapsed": true
   },
   "outputs": [],
   "source": [
    "term_doc_matrix, doc_lengths, avgdl, idfs = inverted_index(answers)"
   ]
  },
  {
   "cell_type": "markdown",
   "metadata": {},
   "source": [
    "Okapi B25"
   ]
  },
  {
   "cell_type": "code",
   "execution_count": 137,
   "metadata": {
    "collapsed": true
   },
   "outputs": [],
   "source": [
    "k1 = 2.0\n",
    "b = 0.75\n",
    "\n",
    "def score_BM25(idf, freq, D, avgdl) -> float:\n",
    "    score = idf * (k1 + 1) * freq / (freq + k1 * (1 - b + b * D / avgdl))\n",
    "    \n",
    "    return score"
   ]
  },
  {
   "cell_type": "markdown",
   "metadata": {},
   "source": [
    "Поиск"
   ]
  },
  {
   "cell_type": "code",
   "execution_count": 138,
   "metadata": {
    "collapsed": true
   },
   "outputs": [],
   "source": [
    "def search_inv_index(request):\n",
    "    results = {doc: 0 for doc in term_doc_matrix[0]}\n",
    "    \n",
    "    for word in request:\n",
    "        if word in term_doc_matrix[1]:\n",
    "            word_ind = term_doc_matrix[1].index(word)\n",
    "            \n",
    "            for i, doc in enumerate(term_doc_matrix[0]):\n",
    "                freq = term_doc_matrix[2][i][word_ind]\n",
    "                D = doc_lengths[int(doc)]\n",
    "                idf = idfs[word]      \n",
    "                bm25 = score_BM25(idf, freq, D, avgdl)\n",
    "                \n",
    "                results[doc] += bm25\n",
    "    \n",
    "    return sorted(results.items(), key=lambda kv: kv[1], reverse=True)"
   ]
  },
  {
   "cell_type": "markdown",
   "metadata": {},
   "source": [
    "# Word2Vec"
   ]
  },
  {
   "cell_type": "code",
   "execution_count": 13,
   "metadata": {
    "collapsed": true
   },
   "outputs": [],
   "source": [
    "model = Word2Vec.load('araneum_none_fasttextcbow_300_5_2018.model')"
   ]
  },
  {
   "cell_type": "code",
   "execution_count": 148,
   "metadata": {
    "collapsed": true
   },
   "outputs": [],
   "source": [
    "def get_w2v_vectors(paragraph):\n",
    "    counter = 0\n",
    "    hypervector = np.zeros(300)\n",
    "    \n",
    "    for word in paragraph:\n",
    "        try:\n",
    "            vector = np.array(model.wv[word])\n",
    "            #print('vec', word, vector)\n",
    "            hypervector += vector\n",
    "            counter += 1\n",
    "        except:\n",
    "            continue\n",
    "\n",
    "    #print(hypervector)\n",
    "\n",
    "    hypervector = hypervector / counter\n",
    "    \n",
    "    return hypervector\n",
    "\n",
    "\n",
    "def save_w2v_base(corpus):\n",
    "    base = []\n",
    "\n",
    "    for ind, text in corpus.items():\n",
    "        paragraphs = splitter(text, 4)\n",
    "\n",
    "        for par in paragraphs:\n",
    "            prep_par = preprocessing(par, 'w2v')\n",
    "            #print(prep_par)\n",
    "            vector = get_w2v_vectors(prep_par)\n",
    "            #print(vector.tolist())\n",
    "            base.append([vector.tolist(), ind])\n",
    "            \n",
    "    with open('qa_base_w2v.json', 'w', encoding='utf-8') as file:\n",
    "        json.dump(base, file, allow_nan=False)\n"
   ]
  },
  {
   "cell_type": "code",
   "execution_count": 149,
   "metadata": {
    "collapsed": true
   },
   "outputs": [],
   "source": [
    "save_w2v_base(answers)"
   ]
  },
  {
   "cell_type": "markdown",
   "metadata": {},
   "source": [
    "Поиск"
   ]
  },
  {
   "cell_type": "code",
   "execution_count": 153,
   "metadata": {
    "collapsed": true
   },
   "outputs": [],
   "source": [
    "def search_w2v(request):\n",
    "    vec_request = get_w2v_vectors(request)  \n",
    "    #print(vec_request)\n",
    "    results = {}\n",
    "    \n",
    "    with open('qa_base_w2v.json', 'r', encoding='utf-8') as file:\n",
    "        base = json.load(file)\n",
    "    \n",
    "    for elem in base:\n",
    "        #print(np.array(elem[0]))\n",
    "        #print(np.isnan(vec_request), np.isnan(elem[0]))\n",
    "        res = cosine_similarity([np.nan_to_num(vec_request)], [np.nan_to_num(elem[0])])[0][0]\n",
    "        results[elem[1]] = res\n",
    "    \n",
    "    return sorted(results.items(), key=lambda kv: kv[1], reverse=True)"
   ]
  },
  {
   "cell_type": "markdown",
   "metadata": {},
   "source": [
    "# Doc2Vec"
   ]
  },
  {
   "cell_type": "code",
   "execution_count": 2,
   "metadata": {
    "collapsed": true
   },
   "outputs": [],
   "source": [
    "class D2VIterator(object):\n",
    "    def __init__(self, texts, labels):\n",
    "        self.texts = texts\n",
    "        self.labels = labels\n",
    "    \n",
    "    def __iter__(self):\n",
    "        for i, text in enumerate(self.texts):\n",
    "              yield LabeledSentence(text, [self.labels[i]])"
   ]
  },
  {
   "cell_type": "code",
   "execution_count": 3,
   "metadata": {
    "collapsed": true
   },
   "outputs": [],
   "source": [
    "def train_doc2vec(d2v_iterator, model_name):\n",
    "    model = Doc2Vec(vector_size=300, min_count=0, alpha=0.025, min_alpha=0.025)\n",
    "    model.build_vocab(d2v_iterator)\n",
    "\n",
    "    for epoch in range(100):\n",
    "        print('epoch %s' % (epoch))\n",
    "        model.train(d2v_iterator, total_examples=model.corpus_count, epochs=model.epochs)\n",
    "        model.alpha -= 0.002\n",
    "        model.min_alpha = model.alpha\n",
    "        model.save(model_name)"
   ]
  },
  {
   "cell_type": "code",
   "execution_count": 4,
   "metadata": {
    "collapsed": true
   },
   "outputs": [],
   "source": [
    "def get_d2v_vectors(corpus, mode):\n",
    "    prep_corpus, labels = [], []\n",
    "\n",
    "    for ind, text in corpus.items():\n",
    "        paragraphs = splitter(text, 4)\n",
    "\n",
    "        for i, par in enumerate(paragraphs):\n",
    "            if mode == 'with_stops':\n",
    "                prep_par = preprocessing(par, 'd2v')\n",
    "            elif mode == 'without_stops':\n",
    "                prep_par = preprocessing(par, 'w2v')\n",
    "                \n",
    "            prep_corpus.append(' '.join(text))\n",
    "            labels.append(ind)\n",
    "        \n",
    "    d2v_iterator = D2VIterator(prep_corpus, labels)\n",
    "    train_doc2vec(d2v_iterator, 'qa_doc2vec.model')\n",
    "    trained_model = Doc2Vec.load('qa_doc2vec.model')\n",
    "    \n",
    "    return trained_model, labels\n",
    "\n",
    "\n",
    "def save_d2v_base(corpus, mode):\n",
    "    trained_model, labels = get_d2v_vectors(corpus, mode)\n",
    "    base = []\n",
    "    \n",
    "    for label in labels:\n",
    "        vector = trained_model.docvecs[label]\n",
    "        base.append([vector.tolist(), label])\n",
    "        \n",
    "    with open('qa_base_d2v_%s.json' % (mode), 'w', encoding='utf-8') as file:\n",
    "        json.dump(base, file)\n",
    "        \n",
    "    return trained_model"
   ]
  },
  {
   "cell_type": "code",
   "execution_count": 166,
   "metadata": {},
   "outputs": [
    {
     "name": "stderr",
     "output_type": "stream",
     "text": [
      "WARNING:gensim.models.doc2vec:Each 'words' should be a list of words (usually unicode strings). First 'words' here is instead plain <class 'str'>.\n"
     ]
    },
    {
     "name": "stdout",
     "output_type": "stream",
     "text": [
      "epoch 0\n",
      "epoch 1\n",
      "epoch 2\n",
      "epoch 3\n",
      "epoch 4\n",
      "epoch 5\n",
      "epoch 6\n",
      "epoch 7\n",
      "epoch 8\n",
      "epoch 9\n",
      "epoch 10\n",
      "epoch 11\n",
      "epoch 12\n",
      "epoch 13\n",
      "epoch 14\n",
      "epoch 15\n",
      "epoch 16\n",
      "epoch 17\n",
      "epoch 18\n",
      "epoch 19\n",
      "epoch 20\n",
      "epoch 21\n",
      "epoch 22\n",
      "epoch 23\n",
      "epoch 24\n",
      "epoch 25\n",
      "epoch 26\n",
      "epoch 27\n",
      "epoch 28\n",
      "epoch 29\n",
      "epoch 30\n",
      "epoch 31\n",
      "epoch 32\n",
      "epoch 33\n",
      "epoch 34\n",
      "epoch 35\n",
      "epoch 36\n",
      "epoch 37\n",
      "epoch 38\n",
      "epoch 39\n",
      "epoch 40\n",
      "epoch 41\n",
      "epoch 42\n",
      "epoch 43\n",
      "epoch 44\n",
      "epoch 45\n",
      "epoch 46\n",
      "epoch 47\n",
      "epoch 48\n",
      "epoch 49\n",
      "epoch 50\n",
      "epoch 51\n",
      "epoch 52\n",
      "epoch 53\n",
      "epoch 54\n",
      "epoch 55\n",
      "epoch 56\n",
      "epoch 57\n",
      "epoch 58\n",
      "epoch 59\n",
      "epoch 60\n",
      "epoch 61\n",
      "epoch 62\n",
      "epoch 63\n",
      "epoch 64\n",
      "epoch 65\n",
      "epoch 66\n",
      "epoch 67\n",
      "epoch 68\n",
      "epoch 69\n",
      "epoch 70\n",
      "epoch 71\n",
      "epoch 72\n",
      "epoch 73\n",
      "epoch 74\n",
      "epoch 75\n",
      "epoch 76\n",
      "epoch 77\n",
      "epoch 78\n",
      "epoch 79\n",
      "epoch 80\n",
      "epoch 81\n",
      "epoch 82\n",
      "epoch 83\n",
      "epoch 84\n",
      "epoch 85\n",
      "epoch 86\n",
      "epoch 87\n",
      "epoch 88\n",
      "epoch 89\n",
      "epoch 90\n",
      "epoch 91\n",
      "epoch 92\n",
      "epoch 93\n",
      "epoch 94\n",
      "epoch 95\n",
      "epoch 96\n",
      "epoch 97\n",
      "epoch 98\n",
      "epoch 99\n"
     ]
    }
   ],
   "source": [
    "trained_model_no_stops = save_d2v_base(answers, 'without_stops')"
   ]
  },
  {
   "cell_type": "code",
   "execution_count": 167,
   "metadata": {},
   "outputs": [
    {
     "name": "stderr",
     "output_type": "stream",
     "text": [
      "WARNING:gensim.models.doc2vec:Each 'words' should be a list of words (usually unicode strings). First 'words' here is instead plain <class 'str'>.\n"
     ]
    },
    {
     "name": "stdout",
     "output_type": "stream",
     "text": [
      "epoch 0\n",
      "epoch 1\n",
      "epoch 2\n",
      "epoch 3\n",
      "epoch 4\n",
      "epoch 5\n",
      "epoch 6\n",
      "epoch 7\n",
      "epoch 8\n",
      "epoch 9\n",
      "epoch 10\n",
      "epoch 11\n",
      "epoch 12\n",
      "epoch 13\n",
      "epoch 14\n",
      "epoch 15\n",
      "epoch 16\n",
      "epoch 17\n",
      "epoch 18\n",
      "epoch 19\n",
      "epoch 20\n",
      "epoch 21\n",
      "epoch 22\n",
      "epoch 23\n",
      "epoch 24\n",
      "epoch 25\n",
      "epoch 26\n",
      "epoch 27\n",
      "epoch 28\n",
      "epoch 29\n",
      "epoch 30\n",
      "epoch 31\n",
      "epoch 32\n",
      "epoch 33\n",
      "epoch 34\n",
      "epoch 35\n",
      "epoch 36\n",
      "epoch 37\n",
      "epoch 38\n",
      "epoch 39\n",
      "epoch 40\n",
      "epoch 41\n",
      "epoch 42\n",
      "epoch 43\n",
      "epoch 44\n",
      "epoch 45\n",
      "epoch 46\n",
      "epoch 47\n",
      "epoch 48\n",
      "epoch 49\n",
      "epoch 50\n",
      "epoch 51\n",
      "epoch 52\n",
      "epoch 53\n",
      "epoch 54\n",
      "epoch 55\n",
      "epoch 56\n",
      "epoch 57\n",
      "epoch 58\n",
      "epoch 59\n",
      "epoch 60\n",
      "epoch 61\n",
      "epoch 62\n",
      "epoch 63\n",
      "epoch 64\n",
      "epoch 65\n",
      "epoch 66\n",
      "epoch 67\n",
      "epoch 68\n",
      "epoch 69\n",
      "epoch 70\n",
      "epoch 71\n",
      "epoch 72\n",
      "epoch 73\n",
      "epoch 74\n",
      "epoch 75\n",
      "epoch 76\n",
      "epoch 77\n",
      "epoch 78\n",
      "epoch 79\n",
      "epoch 80\n",
      "epoch 81\n",
      "epoch 82\n",
      "epoch 83\n",
      "epoch 84\n",
      "epoch 85\n",
      "epoch 86\n",
      "epoch 87\n",
      "epoch 88\n",
      "epoch 89\n",
      "epoch 90\n",
      "epoch 91\n",
      "epoch 92\n",
      "epoch 93\n",
      "epoch 94\n",
      "epoch 95\n",
      "epoch 96\n",
      "epoch 97\n",
      "epoch 98\n",
      "epoch 99\n"
     ]
    }
   ],
   "source": [
    "trained_model_stops = save_d2v_base(answers, 'with_stops')"
   ]
  },
  {
   "cell_type": "markdown",
   "metadata": {},
   "source": [
    "Поиск"
   ]
  },
  {
   "cell_type": "code",
   "execution_count": 9,
   "metadata": {
    "collapsed": true
   },
   "outputs": [],
   "source": [
    "def search_d2v(request, mode):\n",
    "    trained_model_no_stops = Doc2Vec.load('qa_doc2vec.model')\n",
    "    vec_request = trained_model_no_stops.infer_vector(request)\n",
    "        \n",
    "    results = {}\n",
    "    \n",
    "    with open('qa_base_d2v_%s.json' % (mode), 'r', encoding='utf-8') as file:\n",
    "        base = json.load(file)\n",
    "    \n",
    "    for elem in base:\n",
    "        res = cosine_similarity([np.nan_to_num(vec_request)], [np.nan_to_num(elem[0])])\n",
    "        results[elem[1]] = res    \n",
    "    \n",
    "    return sorted(results.items(), key=lambda kv: kv[1], reverse=True)"
   ]
  },
  {
   "cell_type": "markdown",
   "metadata": {},
   "source": [
    "# Оценка"
   ]
  },
  {
   "cell_type": "code",
   "execution_count": 5,
   "metadata": {
    "collapsed": true
   },
   "outputs": [],
   "source": [
    "def evaluate_results(folder, mode, d2v_mode=None):\n",
    "    files = os.listdir(folder)\n",
    "    score = 0\n",
    "    \n",
    "    for file in files:\n",
    "        num = file.strip('q_').strip('.txt') \n",
    "        file = folder + '/' + file\n",
    "            \n",
    "        if mode == 'inverted_index':\n",
    "            with open(file, 'r', encoding='utf-8') as file:\n",
    "                request = file.read().split(' ')\n",
    "            \n",
    "            top_results = search_inv_index(request)[:5]\n",
    "            \n",
    "        elif mode == 'word2vec' or mode == 'doc2vec':\n",
    "            with open(file, 'r', encoding='utf-8') as file:\n",
    "                paragraphs = file.read().split('\\nend\\n')\n",
    "                \n",
    "            top_results = []\n",
    "            \n",
    "            for par in paragraphs:\n",
    "                par = par.split(' ')\n",
    "                if mode == 'word2vec':\n",
    "                    cur_results = search_w2v(par)\n",
    "                elif mode == 'doc2vec':\n",
    "                    cur_results = search_d2v(par, d2v_mode)\n",
    "                    \n",
    "                top_results.extend(cur_results)\n",
    "             \n",
    "            top_results = top_results[:5]\n",
    "        \n",
    "        else:\n",
    "            raise TypeError('unsupported search method')\n",
    "        #print(num, top_results)        \n",
    "        for res in top_results:\n",
    "            if str(res[0]) == str(num):\n",
    "                score += 1\n",
    "                break\n",
    "        \n",
    "    return score / len(files)"
   ]
  },
  {
   "cell_type": "markdown",
   "metadata": {},
   "source": [
    "Обратный индекс"
   ]
  },
  {
   "cell_type": "code",
   "execution_count": 170,
   "metadata": {},
   "outputs": [
    {
     "data": {
      "text/plain": [
       "0.5643063583815029"
      ]
     },
     "execution_count": 170,
     "metadata": {},
     "output_type": "execute_result"
    }
   ],
   "source": [
    "evaluate_results('questions', 'inverted_index')"
   ]
  },
  {
   "cell_type": "code",
   "execution_count": 171,
   "metadata": {},
   "outputs": [
    {
     "data": {
      "text/plain": [
       "0.24855491329479767"
      ]
     },
     "execution_count": 171,
     "metadata": {},
     "output_type": "execute_result"
    }
   ],
   "source": [
    "evaluate_results('questions', 'word2vec')"
   ]
  },
  {
   "cell_type": "markdown",
   "metadata": {},
   "source": [
    "Word2Vec"
   ]
  },
  {
   "cell_type": "code",
   "execution_count": 172,
   "metadata": {},
   "outputs": [
    {
     "data": {
      "text/plain": [
       "0.23482658959537572"
      ]
     },
     "execution_count": 172,
     "metadata": {},
     "output_type": "execute_result"
    }
   ],
   "source": [
    "evaluate_results('q_paragraphs', 'word2vec')"
   ]
  },
  {
   "cell_type": "markdown",
   "metadata": {},
   "source": [
    "Doc2Vec без стоп-слов."
   ]
  },
  {
   "cell_type": "code",
   "execution_count": 10,
   "metadata": {},
   "outputs": [
    {
     "data": {
      "text/plain": [
       "0.0036127167630057803"
      ]
     },
     "execution_count": 10,
     "metadata": {},
     "output_type": "execute_result"
    }
   ],
   "source": [
    "evaluate_results('q_paragraphs', 'doc2vec', 'without_stops')"
   ]
  }
 ],
 "metadata": {
  "kernelspec": {
   "display_name": "Python 3",
   "language": "python",
   "name": "python3"
  },
  "language_info": {
   "codemirror_mode": {
    "name": "ipython",
    "version": 3
   },
   "file_extension": ".py",
   "mimetype": "text/x-python",
   "name": "python",
   "nbconvert_exporter": "python",
   "pygments_lexer": "ipython3",
   "version": "3.6.3"
  }
 },
 "nbformat": 4,
 "nbformat_minor": 2
}
